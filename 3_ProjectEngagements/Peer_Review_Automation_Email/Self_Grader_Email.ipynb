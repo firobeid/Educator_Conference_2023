{
 "cells": [
  {
   "cell_type": "code",
   "execution_count": 1,
   "id": "6e53d7aa-c71e-4067-a55d-9fd3f15b8b8c",
   "metadata": {},
   "outputs": [
    {
     "name": "stderr",
     "output_type": "stream",
     "text": [
      "C:\\Users\\feras.FIROMEGAPC\\miniconda3\\envs\\mywealthpath\\lib\\site-packages\\numpy\\_distributor_init.py:30: UserWarning: loaded more than 1 DLL from .libs:\n",
      "C:\\Users\\feras.FIROMEGAPC\\miniconda3\\envs\\mywealthpath\\lib\\site-packages\\numpy\\.libs\\libopenblas.GK7GX5KEQ4F6UYO3P26ULGBQYHGQO7J4.gfortran-win_amd64.dll\n",
      "C:\\Users\\feras.FIROMEGAPC\\miniconda3\\envs\\mywealthpath\\lib\\site-packages\\numpy\\.libs\\libopenblas64__v0.3.21-gcc_10_3_0.dll\n",
      "  warnings.warn(\"loaded more than 1 DLL from .libs:\"\n"
     ]
    }
   ],
   "source": [
    "import pandas as pd\n",
    "import numpy as np\n",
    "from tqdm import tqdm\n",
    "import os\n"
   ]
  },
  {
   "cell_type": "code",
   "execution_count": 2,
   "id": "bad851f9-2d7d-47b8-ac9c-c5217faafc44",
   "metadata": {
    "tags": []
   },
   "outputs": [
    {
     "name": "stderr",
     "output_type": "stream",
     "text": [
      "UsageError: Line magic function `%MY_EMAIL_API=hlietvfbjugbforx` not found.\n"
     ]
    }
   ],
   "source": [
    "%MY_EMAIL_API=hlietvfbjugbforx"
   ]
  },
  {
   "cell_type": "code",
   "execution_count": 3,
   "id": "b31e7fa1-9a75-4dfa-8534-3e8879a43721",
   "metadata": {},
   "outputs": [],
   "source": [
    "os.getenv('MY_EMAIL_API')"
   ]
  },
  {
   "cell_type": "code",
   "execution_count": 4,
   "id": "d51ca9cc-8915-4522-b19d-55aa0d4e11c1",
   "metadata": {
    "tags": []
   },
   "outputs": [],
   "source": [
    "import time, ssl, smtplib, os\n",
    "import pandas as pd\n",
    "from email.mime.text import MIMEText\n",
    "from email.mime.multipart import MIMEMultipart\n",
    "from email.header import Header\n",
    "\n",
    "# DATA_PATH = \"../models_DB.h5\"\n",
    "\n",
    "def send_email(email,name):\n",
    "    # with pd.HDFStore(DATA_PATH) as store:\n",
    "    #     max_date = store['predictions/news/daily'].index.get_level_values(0).max().strftime('%Y-%m-%d')\n",
    "    #     labels = store['predictions/news/daily'].loc[max_date]\n",
    "    #     labels = labels[labels.BUY_V1 != labels.BUY_V2]\n",
    "    #     labels.to_csv('%s_Predicitions.csv'% max_date)\n",
    "\n",
    "    user = \"firobeid92@gmail.com\"\n",
    "    # key = os.getenv('MY_EMAIL_API')\n",
    "    key = 'hlietvfbjugbforx'\n",
    "    # students = list(pd.read_csv(r\"C:\\Users\\feras.FIROMEGAPC\\Desktop\\Job Related\\2U\\Cohorts\\Berkely\\UCB-VIRT-FIN-PT-09-2022-U-B\\students.csv\").loc[:,\"Emails\"].dropna())\n",
    "    # to = ['feras.obeid@lau.edu'] #+ students\n",
    "    to = email\n",
    "    subject = 'PROJECT 1 GRADE TEAMMATES SHEET FOR %s'%name.upper() \n",
    "    email_body = \"\"\"\\\n",
    "    Hello %s, \n",
    "\n",
    "    Please find attached, fill by grading your teammates and send back to Jennifer!\n",
    "    Please leave any feedback or comments in the csv and send via drag drop in slack to Jennifer.\n",
    "    \n",
    "    \"Using what you are learning to programatically grade what you learned\"\n",
    "\n",
    "    Yours Sincerely,\n",
    "    Firas's Computer\n",
    "    Instructor\n",
    "    \"\"\"%name\n",
    "\n",
    "    attachment = '%s.csv'% name\n",
    "    ### Define email ###\n",
    "    message = MIMEMultipart()\n",
    "    message['From'] = Header(user.split(\"@\")[0])\n",
    "    # message['To'] = Header(to)     \n",
    "    message['Subject'] = Header(subject)\n",
    "    message.attach(MIMEText(email_body, 'plain', 'utf-8'))\n",
    "    att_name = os.path.basename(attachment)\n",
    "    att1 = MIMEText(open(attachment, 'rb').read(), 'base64', 'utf-8')\n",
    "    att1['Content-Type'] = 'application/octet-stream'\n",
    "    att1['Content-Disposition'] = 'attachment; filename=' + att_name\n",
    "    message.attach(att1)\n",
    "\n",
    "    context = ssl.create_default_context()\n",
    "    email_port = 465\n",
    "    with smtplib.SMTP_SSL(host = \"smtp.gmail.com\", port = email_port, context = context) as server:\n",
    "        server.login(user, key)\n",
    "        print(server.ehlo())\n",
    "        if server.ehlo()[0] == 250:\n",
    "            server.sendmail(key,to, message.as_string())\n",
    "            print('Email sent successfully!')\n",
    "            os.remove('%s.csv'% name)\n",
    "            server.quit()\n",
    "        else:\n",
    "            print(f'Unable to establish connection with server! Error code: {server.ehlo()[0]}')\n",
    "            server.quit()\n",
    "            \n",
    "\n",
    "\n",
    "\n"
   ]
  },
  {
   "cell_type": "code",
   "execution_count": 5,
   "id": "68e069f4-a9fe-4d8d-9e25-d50be71627e0",
   "metadata": {},
   "outputs": [],
   "source": [
    "students = pd.read_csv(\"students.csv\")"
   ]
  },
  {
   "cell_type": "code",
   "execution_count": 6,
   "id": "d56b1ce5-0b7e-40fc-a882-0e87f52a2721",
   "metadata": {},
   "outputs": [],
   "source": [
    "students['Emails'] = students['SIS Login ID']"
   ]
  },
  {
   "cell_type": "code",
   "execution_count": null,
   "id": "3806cfa4-a117-4e55-b557-64205fac43cc",
   "metadata": {
    "tags": []
   },
   "outputs": [],
   "source": []
  },
  {
   "cell_type": "code",
   "execution_count": 7,
   "id": "fc698590-b8fc-4f0d-8fbd-b989915830f5",
   "metadata": {
    "tags": []
   },
   "outputs": [],
   "source": [
    "emails = list(students['Emails'].values)\n",
    "all_students = list(students['Student'].values)"
   ]
  },
  {
   "cell_type": "code",
   "execution_count": 50,
   "id": "ef865d74-b9c1-4df9-806c-33832b0dbf97",
   "metadata": {},
   "outputs": [],
   "source": [
    "def find_file(start_with, student_list):\n",
    "    try:\n",
    "        return [i.title() for i in student_list if str(start_with).upper() in i]\n",
    "    except:\n",
    "        print(\"Not found\")\n",
    "        pass"
   ]
  },
  {
   "cell_type": "code",
   "execution_count": 51,
   "id": "5e19b033-f7f5-43b9-a047-d7e777e3db5c",
   "metadata": {},
   "outputs": [],
   "source": [
    "# test = pd.DataFrame({\"Team_Member\":np.nan, \"Grade_Others\":np.nan}, index=[0])\n",
    "# test[\"Team_Member\"] = np.array(['Farkouh, Kaio', 'Eras, Zach', 'Thorsen, Robin']).reshape(1,-1)"
   ]
  },
  {
   "cell_type": "code",
   "execution_count": 52,
   "id": "bd7f869e-6abc-44f3-a913-80e823b431c3",
   "metadata": {},
   "outputs": [],
   "source": [
    "# find_file(\"\",students[\"Student\"].values)"
   ]
  },
  {
   "cell_type": "code",
   "execution_count": 10,
   "id": "091e06cd-53e6-4c54-9e1f-a68ae5e5dccc",
   "metadata": {},
   "outputs": [],
   "source": [
    "emails = [\"feras.obeid@lau.edu\", \"feras.obeid@lau.edu\"]\n",
    "\n",
    "team1 = ['OLVERA FERNANDEZ, ROSALINDA', 'Johnston, Dylan', 'Valenzuela, Alexander', 'Silver, Michelle', 'White, James']\n",
    "team2 = ['Estrada, Cesar', 'Li, Yi', 'Gino, Liza', 'Motley, Kacie', 'Miyazaki, Randy']\n",
    "team3 = ['Alemu, Eyasu','Cummock, Chris', 'Garcia, John','Krulin, Gregory', 'beers, mark','Jew, Samuel']\n",
    "team4 = ['Ajmera, Malika','Glasgow, Matthew','Torres, Luis', 'Knight, Joseph','Nguyen, Mike', 'Silver, Michelle']\n"
   ]
  },
  {
   "cell_type": "code",
   "execution_count": 59,
   "id": "05e76d11-ff3b-4d49-bc89-8ddf4b5c8cc8",
   "metadata": {
    "jupyter": {
     "source_hidden": true
    },
    "tags": []
   },
   "outputs": [],
   "source": [
    "#INTROS\n",
    "# team = all_students\n",
    "\n",
    "# print(\"Intiating email to team: %s\"%team)\n",
    "\n",
    "# for i in tqdm(team):\n",
    "#     print(\"Sending email to %s\"%i)\n",
    "#     email = students.loc[students[\"Student\"] == i,\"Emails\"].values[0].strip(\" \")\n",
    "#     # print(email)\n",
    "#     # email = 'feras.obeid@lau.edu'\n",
    "#     # print(email.strip(\" \"))\n",
    "#     # test = pd.DataFrame()\n",
    "#     # test[\"Team_Member\"] = list(filter(lambda x: (x != i), team))\n",
    "#     # test[\"Grade_Others[0-10]\"] = np.nan\n",
    "#     # test[\"Comments_on_anything\"] = np.nan\n",
    "#     # print(i.split(\",\")[1].strip(\" \"))\n",
    "#     # test.to_csv(\"%s.csv\"%i.split(\",\")[1].strip(\" \"),index =False)\n",
    "#     send_email(email = email,name = i.split(\",\")[1].strip(\" \").title())\n",
    "#     # print(test)"
   ]
  },
  {
   "cell_type": "code",
   "execution_count": 14,
   "id": "0ccc9c95-140d-4eac-97f4-626bd5721774",
   "metadata": {
    "tags": []
   },
   "outputs": [
    {
     "name": "stdout",
     "output_type": "stream",
     "text": [
      "Intiating email to team: ['Estrada, Cesar', 'Li, Yi', 'Gino, Liza', 'Motley, Kacie', 'Miyazaki, Randy']\n"
     ]
    },
    {
     "name": "stderr",
     "output_type": "stream",
     "text": [
      "  0%|                                                                         | 0/5 [00:00<?, ?it/s]"
     ]
    },
    {
     "name": "stdout",
     "output_type": "stream",
     "text": [
      "Sending email to Estrada, Cesar\n",
      "(250, b'smtp.gmail.com at your service, [2a00:6920:e0ef:ef6e:438d:cdd1:5a53:23df]\\nSIZE 35882577\\n8BITMIME\\nAUTH LOGIN PLAIN XOAUTH2 PLAIN-CLIENTTOKEN OAUTHBEARER XOAUTH\\nENHANCEDSTATUSCODES\\nPIPELINING\\nCHUNKING\\nSMTPUTF8')\n"
     ]
    },
    {
     "name": "stderr",
     "output_type": "stream",
     "text": [
      " 20%|█████████████                                                    | 1/5 [00:02<00:09,  2.38s/it]"
     ]
    },
    {
     "name": "stdout",
     "output_type": "stream",
     "text": [
      "Email sent successfully!\n",
      "       Team_Member  Grade_Others[0-10]  Comments_on_anything\n",
      "0           Li, Yi                 NaN                   NaN\n",
      "1       Gino, Liza                 NaN                   NaN\n",
      "2    Motley, Kacie                 NaN                   NaN\n",
      "3  Miyazaki, Randy                 NaN                   NaN\n",
      "Sending email to Li, Yi\n",
      "(250, b'smtp.gmail.com at your service, [2a00:6920:e0ef:ef6e:438d:cdd1:5a53:23df]\\nSIZE 35882577\\n8BITMIME\\nAUTH LOGIN PLAIN XOAUTH2 PLAIN-CLIENTTOKEN OAUTHBEARER XOAUTH\\nENHANCEDSTATUSCODES\\nPIPELINING\\nCHUNKING\\nSMTPUTF8')\n"
     ]
    },
    {
     "name": "stderr",
     "output_type": "stream",
     "text": [
      " 40%|██████████████████████████                                       | 2/5 [00:04<00:06,  2.26s/it]"
     ]
    },
    {
     "name": "stdout",
     "output_type": "stream",
     "text": [
      "Email sent successfully!\n",
      "       Team_Member  Grade_Others[0-10]  Comments_on_anything\n",
      "0   Estrada, Cesar                 NaN                   NaN\n",
      "1       Gino, Liza                 NaN                   NaN\n",
      "2    Motley, Kacie                 NaN                   NaN\n",
      "3  Miyazaki, Randy                 NaN                   NaN\n",
      "Sending email to Gino, Liza\n",
      "(250, b'smtp.gmail.com at your service, [2a00:6920:e0ef:ef6e:438d:cdd1:5a53:23df]\\nSIZE 35882577\\n8BITMIME\\nAUTH LOGIN PLAIN XOAUTH2 PLAIN-CLIENTTOKEN OAUTHBEARER XOAUTH\\nENHANCEDSTATUSCODES\\nPIPELINING\\nCHUNKING\\nSMTPUTF8')\n"
     ]
    },
    {
     "name": "stderr",
     "output_type": "stream",
     "text": [
      " 60%|███████████████████████████████████████                          | 3/5 [00:06<00:04,  2.34s/it]"
     ]
    },
    {
     "name": "stdout",
     "output_type": "stream",
     "text": [
      "Email sent successfully!\n",
      "       Team_Member  Grade_Others[0-10]  Comments_on_anything\n",
      "0   Estrada, Cesar                 NaN                   NaN\n",
      "1           Li, Yi                 NaN                   NaN\n",
      "2    Motley, Kacie                 NaN                   NaN\n",
      "3  Miyazaki, Randy                 NaN                   NaN\n",
      "Sending email to Motley, Kacie\n",
      "(250, b'smtp.gmail.com at your service, [2a00:6920:e0ef:ef6e:438d:cdd1:5a53:23df]\\nSIZE 35882577\\n8BITMIME\\nAUTH LOGIN PLAIN XOAUTH2 PLAIN-CLIENTTOKEN OAUTHBEARER XOAUTH\\nENHANCEDSTATUSCODES\\nPIPELINING\\nCHUNKING\\nSMTPUTF8')\n"
     ]
    },
    {
     "name": "stderr",
     "output_type": "stream",
     "text": [
      " 80%|████████████████████████████████████████████████████             | 4/5 [00:09<00:02,  2.25s/it]"
     ]
    },
    {
     "name": "stdout",
     "output_type": "stream",
     "text": [
      "Email sent successfully!\n",
      "       Team_Member  Grade_Others[0-10]  Comments_on_anything\n",
      "0   Estrada, Cesar                 NaN                   NaN\n",
      "1           Li, Yi                 NaN                   NaN\n",
      "2       Gino, Liza                 NaN                   NaN\n",
      "3  Miyazaki, Randy                 NaN                   NaN\n",
      "Sending email to Miyazaki, Randy\n",
      "(250, b'smtp.gmail.com at your service, [2a00:6920:e0ef:ef6e:438d:cdd1:5a53:23df]\\nSIZE 35882577\\n8BITMIME\\nAUTH LOGIN PLAIN XOAUTH2 PLAIN-CLIENTTOKEN OAUTHBEARER XOAUTH\\nENHANCEDSTATUSCODES\\nPIPELINING\\nCHUNKING\\nSMTPUTF8')\n"
     ]
    },
    {
     "name": "stderr",
     "output_type": "stream",
     "text": [
      "100%|█████████████████████████████████████████████████████████████████| 5/5 [00:11<00:00,  2.24s/it]"
     ]
    },
    {
     "name": "stdout",
     "output_type": "stream",
     "text": [
      "Email sent successfully!\n",
      "      Team_Member  Grade_Others[0-10]  Comments_on_anything\n",
      "0  Estrada, Cesar                 NaN                   NaN\n",
      "1          Li, Yi                 NaN                   NaN\n",
      "2      Gino, Liza                 NaN                   NaN\n",
      "3   Motley, Kacie                 NaN                   NaN\n"
     ]
    },
    {
     "name": "stderr",
     "output_type": "stream",
     "text": [
      "\n"
     ]
    }
   ],
   "source": [
    "team = team2\n",
    "print(\"Intiating email to team: %s\"%team)\n",
    "\n",
    "for i in tqdm(team):\n",
    "    print(\"Sending email to %s\"%i)\n",
    "    email = students.loc[students[\"Student\"] == i,\"Emails\"].values[0].strip(\" \")\n",
    "    # print(email)\n",
    "    # email = 'feras.obeid@lau.edu'\n",
    "    # print(email.strip(\" \"))\n",
    "    test = pd.DataFrame()\n",
    "    test[\"Team_Member\"] = list(filter(lambda x: (x != i), team))\n",
    "    test[\"Grade_Others[0-10]\"] = np.nan\n",
    "    test[\"Comments_on_anything\"] = np.nan\n",
    "    # print(i.split(\",\")[1].strip(\" \"))\n",
    "    test.to_csv(\"%s.csv\"%i.split(\",\")[1].strip(\" \"),index =False)\n",
    "    send_email(email = email,name = i.split(\",\")[1].strip(\" \"))\n",
    "    print(test)"
   ]
  },
  {
   "cell_type": "code",
   "execution_count": 26,
   "id": "b681d680-5715-4434-9893-493023166559",
   "metadata": {},
   "outputs": [
    {
     "data": {
      "text/plain": [
       "'Ajmera, Malika'"
      ]
     },
     "execution_count": 26,
     "metadata": {},
     "output_type": "execute_result"
    }
   ],
   "source": [
    "students.loc[students[\"Emails\"] == i,\"Student\"].values[0].strip(\" \")"
   ]
  },
  {
   "cell_type": "code",
   "execution_count": 24,
   "id": "8e9af06b-a90a-45de-8c5d-18bb9ce5b281",
   "metadata": {},
   "outputs": [
    {
     "data": {
      "text/plain": [
       "'ajmera.malika@gmail.com'"
      ]
     },
     "execution_count": 24,
     "metadata": {},
     "output_type": "execute_result"
    }
   ],
   "source": [
    "i"
   ]
  },
  {
   "cell_type": "code",
   "execution_count": null,
   "id": "cfd786c8-a3ed-49cc-9462-be41e64ae989",
   "metadata": {},
   "outputs": [],
   "source": []
  }
 ],
 "metadata": {
  "kernelspec": {
   "display_name": "Python 3 (ipykernel)",
   "language": "python",
   "name": "python3"
  },
  "language_info": {
   "codemirror_mode": {
    "name": "ipython",
    "version": 3
   },
   "file_extension": ".py",
   "mimetype": "text/x-python",
   "name": "python",
   "nbconvert_exporter": "python",
   "pygments_lexer": "ipython3",
   "version": "3.9.16"
  }
 },
 "nbformat": 4,
 "nbformat_minor": 5
}
