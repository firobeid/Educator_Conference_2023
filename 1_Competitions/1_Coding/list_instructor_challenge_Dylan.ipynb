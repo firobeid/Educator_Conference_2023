{
 "cells": [
  {
   "cell_type": "code",
   "execution_count": 1,
   "id": "5c8ec7f1-3f21-4b41-b644-862ddf91f8b7",
   "metadata": {},
   "outputs": [],
   "source": [
    "names = ['St. Albans',\n",
    "        'St. Albans', \n",
    "        'St Albans', \n",
    "        'St.Ablans',\n",
    "        \"St.albans\", \n",
    "        \"St. Alans\", 'S.Albans',\n",
    "        'St..Albans', 'S.Albnas', \n",
    "        'St. Albnas', \"St.Al bans\", 'St.Algans',\n",
    "        \"Sl.Albans\", 'St. Allbans', \"St, Albans\", 'St. Alban', 'St. Alban']"
   ]
  },
  {
   "cell_type": "code",
   "execution_count": null,
   "id": "df5a7504-88d2-4cb8-8389-482638af3fe1",
   "metadata": {},
   "outputs": [],
   "source": []
  },
  {
   "cell_type": "code",
   "execution_count": 2,
   "id": "f70fc072-d9d5-4296-840d-66a9018766a4",
   "metadata": {},
   "outputs": [
    {
     "name": "stdout",
     "output_type": "stream",
     "text": [
      "The original list: ['St. Albans', 'St. Albans', 'St Albans', 'St.Ablans', 'St.albans', 'St. Alans', 'S.Albans', 'St..Albans', 'S.Albnas', 'St. Albnas', 'St.Al bans', 'St.Algans', 'Sl.Albans', 'St. Allbans', 'St, Albans', 'St. Alban', 'St. Alban']\n"
     ]
    }
   ],
   "source": [
    "print(f\"The original list:\", names)"
   ]
  },
  {
   "cell_type": "code",
   "execution_count": 3,
   "id": "141bd613-f047-4e05-9068-cff33f142104",
   "metadata": {},
   "outputs": [],
   "source": [
    "new_names = []\n",
    "\n",
    "for name in names:\n",
    "    name = name.replace(\".\",\"\").replace(\",\",\"\").replace(\" \",\"\").replace(\"t\",\"t \")\n",
    "    name = name.replace(\"S\",\"S \").replace(\"S t\",\"St\").replace(\"S l\",\"Sl \").replace(\"t a\",\"t A\")\n",
    "    new_names.append(name)"
   ]
  },
  {
   "cell_type": "code",
   "execution_count": 4,
   "id": "7edd4553-255c-4336-80f3-1b2b53ce53cb",
   "metadata": {},
   "outputs": [
    {
     "name": "stdout",
     "output_type": "stream",
     "text": [
      "The new list: ['St Albans', 'St Albans', 'St Albans', 'St Ablans', 'St Albans', 'St Alans', 'S Albans', 'St Albans', 'S Albnas', 'St Albnas', 'St Albans', 'St Algans', 'Sl Albans', 'St Allbans', 'St Albans', 'St Alban', 'St Alban']\n"
     ]
    }
   ],
   "source": [
    "print(f\"The new list:\", new_names)"
   ]
  }
 ],
 "metadata": {
  "kernelspec": {
   "display_name": "Python 3 (ipykernel)",
   "language": "python",
   "name": "python3"
  },
  "language_info": {
   "codemirror_mode": {
    "name": "ipython",
    "version": 3
   },
   "file_extension": ".py",
   "mimetype": "text/x-python",
   "name": "python",
   "nbconvert_exporter": "python",
   "pygments_lexer": "ipython3",
   "version": "3.7.13"
  }
 },
 "nbformat": 4,
 "nbformat_minor": 5
}
