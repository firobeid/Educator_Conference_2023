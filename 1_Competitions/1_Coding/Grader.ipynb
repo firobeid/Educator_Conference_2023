{
 "cells": [
  {
   "cell_type": "code",
   "execution_count": 1,
   "id": "b2f43c55-7911-4219-aa05-ee32600b3017",
   "metadata": {},
   "outputs": [],
   "source": [
    "import pandas as pd\n",
    "import string\n",
    "import time\n",
    "def time_it():\n",
    "    return  pd.to_datetime(time.time(),unit = 's')"
   ]
  },
  {
   "cell_type": "code",
   "execution_count": 2,
   "id": "aca08fec-1d8e-4cd7-b4be-2771a80cf5af",
   "metadata": {},
   "outputs": [],
   "source": [
    "actual_output = ['St Albans', 'St Albans', 'St Albans', 'St Ablans', 'St Albans', 'St Alans', 'S Albans', 'St Albans', 'S Albnas', \n",
    "'St Albnas', 'St Albans', 'St Algans', 'Sl Albans', 'St Allbans', 'St Albans', 'St Alban', 'St Alban']"
   ]
  },
  {
   "cell_type": "code",
   "execution_count": 9,
   "id": "b1d7f82b-b4fb-4975-a2af-e9f84597acab",
   "metadata": {
    "jupyter": {
     "source_hidden": true
    },
    "tags": []
   },
   "outputs": [],
   "source": [
    "start = time_it()\n",
    "\n",
    "names = ['St. Albans',\n",
    "        'St. Albans', \n",
    "        'St Albans', \n",
    "        'St.Ablans',\n",
    "        \"St.albans\", \n",
    "        \"St. Alans\", 'S.Albans',\n",
    "        'St..Albans', 'S.Albnas', \n",
    "        'St. Albnas', \"St.Al bans\", 'St.Algans',\n",
    "        \"Sl.Albans\", 'St. Allbans', \"St, Albans\", 'St. Alban', 'St. Alban']\n",
    "\n",
    "only_periods = [i.replace(\",\",\".\").replace(\" \", \"\") for i in names]\n",
    "new_names = [(i.split(\".\")[0].title() + \" \" + i.split(\".\")[-1].title()) if len(i.split(\".\")) > 1 else i for i in only_periods]\n",
    "\n",
    "\n",
    "\n",
    "end = time_it()\n",
    "# end_memory = float(psutil.virtual_memory().free)/1024**3\n",
    "loop_time = end - start\n",
    "\n",
    "\n",
    "accuracy = len(set(new_names).intersection(set(actual_output)))/len(set(new_names))\n",
    "results = pd.DataFrame({'Results(Time+Space_Complexity':{'Nanoseconds': loop_time.nanoseconds, 'Microseconds': loop_time.microseconds\n",
    "                            ,'Seconds': loop_time.seconds,'Total_Seconds':loop_time.total_seconds() ,'Accuracy': '%.2f' % (accuracy*100)}}) #'Memory': '%d MB' % (loop_memory* 1024),"
   ]
  },
  {
   "cell_type": "code",
   "execution_count": 10,
   "id": "ab07433e-5c61-494a-be7b-f0e2798978f3",
   "metadata": {},
   "outputs": [
    {
     "data": {
      "text/html": [
       "<div>\n",
       "<style scoped>\n",
       "    .dataframe tbody tr th:only-of-type {\n",
       "        vertical-align: middle;\n",
       "    }\n",
       "\n",
       "    .dataframe tbody tr th {\n",
       "        vertical-align: top;\n",
       "    }\n",
       "\n",
       "    .dataframe thead th {\n",
       "        text-align: right;\n",
       "    }\n",
       "</style>\n",
       "<table border=\"1\" class=\"dataframe\">\n",
       "  <thead>\n",
       "    <tr style=\"text-align: right;\">\n",
       "      <th></th>\n",
       "      <th>Results(Time+Space_Complexity</th>\n",
       "    </tr>\n",
       "  </thead>\n",
       "  <tbody>\n",
       "    <tr>\n",
       "      <th>Accuracy</th>\n",
       "      <td>90.91</td>\n",
       "    </tr>\n",
       "    <tr>\n",
       "      <th>Microseconds</th>\n",
       "      <td>0</td>\n",
       "    </tr>\n",
       "    <tr>\n",
       "      <th>Nanoseconds</th>\n",
       "      <td>0</td>\n",
       "    </tr>\n",
       "    <tr>\n",
       "      <th>Seconds</th>\n",
       "      <td>0</td>\n",
       "    </tr>\n",
       "    <tr>\n",
       "      <th>Total_Seconds</th>\n",
       "      <td>0</td>\n",
       "    </tr>\n",
       "  </tbody>\n",
       "</table>\n",
       "</div>"
      ],
      "text/plain": [
       "              Results(Time+Space_Complexity\n",
       "Accuracy                              90.91\n",
       "Microseconds                              0\n",
       "Nanoseconds                               0\n",
       "Seconds                                   0\n",
       "Total_Seconds                             0"
      ]
     },
     "execution_count": 10,
     "metadata": {},
     "output_type": "execute_result"
    }
   ],
   "source": [
    "results"
   ]
  },
  {
   "cell_type": "markdown",
   "id": "86ccf735-0070-4aaf-abd4-5ea1a673cce9",
   "metadata": {},
   "source": [
    "# Firas"
   ]
  },
  {
   "cell_type": "code",
   "execution_count": 12,
   "id": "80540981-6445-463f-93d7-9917a67afb99",
   "metadata": {
    "jupyter": {
     "source_hidden": true
    },
    "tags": []
   },
   "outputs": [
    {
     "name": "stdout",
     "output_type": "stream",
     "text": [
      "13.9 µs ± 435 ns per loop (mean ± std. dev. of 7 runs, 100000 loops each)\n"
     ]
    }
   ],
   "source": [
    "%%timeit\n",
    "names = ['St. Albans',\n",
    "        'St. Albans', \n",
    "        'St Albans', \n",
    "        'St.Ablans',\n",
    "        \"St.albans\", \n",
    "        \"St. Alans\", 'S.Albans',\n",
    "        'St..Albans', 'S.Albnas', \n",
    "        'St. Albnas', \"St.Al bans\", 'St.Algans',\n",
    "        \"Sl.Albans\", 'St. Allbans', \"St, Albans\", 'St. Alban', 'St. Alban']\n",
    "\n",
    "only_periods = [i.replace(\",\",\".\").replace(\" \", \"\") for i in names]\n",
    "new_names = [(i.split(\".\")[0].title() + \" \" + i.split(\".\")[-1].title()) if len(i.split(\".\")) > 1 else i for i in only_periods]\n",
    "\n"
   ]
  },
  {
   "cell_type": "markdown",
   "id": "db2727e8-e35e-41c9-aff2-ebbfc91dbb85",
   "metadata": {},
   "source": [
    "# Rosalinda"
   ]
  },
  {
   "cell_type": "code",
   "execution_count": 7,
   "id": "8de533da-341e-41d3-a6bd-89c7dacc1b1e",
   "metadata": {
    "jupyter": {
     "source_hidden": true
    },
    "tags": []
   },
   "outputs": [
    {
     "name": "stdout",
     "output_type": "stream",
     "text": [
      "5.99 µs ± 151 ns per loop (mean ± std. dev. of 7 runs, 100000 loops each)\n"
     ]
    }
   ],
   "source": [
    "%%timeit\n",
    "names = ['St. Albans',\n",
    "        'St. Albans', \n",
    "        'St Albans', \n",
    "        'St.Ablans',\n",
    "        \"St.albans\", \n",
    "        \"St. Alans\", 'S.Albans',\n",
    "        'St..Albans', 'S.Albnas', \n",
    "        'St. Albnas', \"St.Al bans\", 'St.Algans',\n",
    "        \"Sl.Albans\", 'St. Allbans', \"St, Albans\", 'St. Alban', 'St. Alban']\n",
    "\n",
    "def clean_names(names):\n",
    "    return [' '.join(name.replace(\",\", \" \").split()).title() for name in names]\n",
    "\n",
    "new_names = clean_names(names)"
   ]
  },
  {
   "cell_type": "markdown",
   "id": "00cb51e0-4a0d-47eb-919a-c2ae7aa5faa2",
   "metadata": {},
   "source": [
    "# Eugene - Not Attending Anymore"
   ]
  },
  {
   "cell_type": "code",
   "execution_count": 6,
   "id": "84d3cfa1-c6d0-4c2c-9d75-3de88164ad02",
   "metadata": {
    "jupyter": {
     "source_hidden": true
    },
    "tags": []
   },
   "outputs": [
    {
     "name": "stdout",
     "output_type": "stream",
     "text": [
      "41.8 µs ± 1.3 µs per loop (mean ± std. dev. of 7 runs, 10000 loops each)\n"
     ]
    }
   ],
   "source": [
    "%%timeit\n",
    "names = ['St. Albans',\n",
    "        'St. Albans', \n",
    "        'St Albans', \n",
    "        'St.Ablans',\n",
    "        \"St.albans\", \n",
    "        \"St. Alans\", 'S.Albans',\n",
    "        'St..Albans', 'S.Albnas', \n",
    "        'St. Albnas', \"St.Al bans\", 'St.Algans',\n",
    "        \"Sl.Albans\", 'St. Allbans', \"St, Albans\", 'St. Alban', 'St. Alban']\n",
    "\n",
    "def tokenize(str, tokens, drop_empty=True):\n",
    "   if(len(tokens)==0):\n",
    "      return list(str)\n",
    "\n",
    "   if(len(tokens)==1):\n",
    "      tlist = str.split(tokens[0])\n",
    "      return tlist\n",
    "   else:\n",
    "\n",
    "      tlist = str.split(tokens[0])\n",
    "\n",
    "      outlist = []\n",
    "      for index,item in enumerate(tlist):\n",
    "         outlist = outlist + tokenize(item, tokens[1:])\n",
    "\n",
    "      #\n",
    "      # Drop empty strings if requested (default=True)\n",
    "      if(drop_empty):\n",
    "        while \"\" in outlist:\n",
    "             outlist.remove(\"\")\n",
    "\n",
    "      return outlist\n",
    "\n",
    "cleaned_names = names.copy()\n",
    "\n",
    "for index, name in enumerate(names):\n",
    "   list = tokenize(name,[\",\", \".\",\" \"])\n",
    "\n",
    "   # Reconstitute\n",
    "   cleaned_names[index] = list[0] + \" \" + \"\".join(list[1:])\n",
    "   cleaned_names[index] = cleaned_names[index].title()"
   ]
  },
  {
   "cell_type": "markdown",
   "id": "0ce093f5-b982-44b0-8ff4-23dcc1917ede",
   "metadata": {},
   "source": [
    "# Dylan"
   ]
  },
  {
   "cell_type": "code",
   "execution_count": 5,
   "id": "58dbdb12-a31f-4256-a2af-2c8c8cc539dd",
   "metadata": {
    "jupyter": {
     "source_hidden": true
    },
    "tags": []
   },
   "outputs": [
    {
     "name": "stdout",
     "output_type": "stream",
     "text": [
      "11.9 µs ± 319 ns per loop (mean ± std. dev. of 7 runs, 100000 loops each)\n"
     ]
    }
   ],
   "source": [
    "%%timeit\n",
    "names = ['St. Albans',\n",
    "        'St. Albans', \n",
    "        'St Albans', \n",
    "        'St.Ablans',\n",
    "        \"St.albans\", \n",
    "        \"St. Alans\", 'S.Albans',\n",
    "        'St..Albans', 'S.Albnas', \n",
    "        'St. Albnas', \"St.Al bans\", 'St.Algans',\n",
    "        \"Sl.Albans\", 'St. Allbans', \"St, Albans\", 'St. Alban', 'St. Alban']\n",
    "new_names = []\n",
    "\n",
    "for name in names:\n",
    "    name = name.replace(\".\",\"\").replace(\",\",\"\").replace(\" \",\"\").replace(\"t\",\"t \")\n",
    "    name = name.replace(\"S\",\"S \").replace(\"S t\",\"St\").replace(\"S l\",\"Sl \").replace(\"t a\",\"t A\")\n",
    "    new_names.append(name)\n"
   ]
  },
  {
   "cell_type": "markdown",
   "id": "91a74cc8-ff2d-4def-b4da-12e01d155e86",
   "metadata": {},
   "source": [
    "# Mat_G"
   ]
  },
  {
   "cell_type": "code",
   "execution_count": 4,
   "id": "ce4725dd-27ba-4b39-b4d9-1832d4090c4b",
   "metadata": {
    "jupyter": {
     "source_hidden": true
    },
    "tags": []
   },
   "outputs": [
    {
     "name": "stdout",
     "output_type": "stream",
     "text": [
      "8 µs ± 197 ns per loop (mean ± std. dev. of 7 runs, 100000 loops each)\n"
     ]
    }
   ],
   "source": [
    "%%timeit\n",
    "names = ['St. Albans',\n",
    "        'St. Albans', \n",
    "        'St Albans', \n",
    "        'St.Ablans',\n",
    "        \"St.albans\", \n",
    "        \"St. Alans\", 'S.Albans',\n",
    "        'St..Albans', 'S.Albnas', \n",
    "        'St. Albnas', \"St.Al bans\", 'St.Algans',\n",
    "        \"Sl.Albans\", 'St. Allbans', \"St, Albans\", 'St. Alban', 'St. Alban']\n",
    "cleaned_names = []\n",
    "for name in names:\n",
    "    name = name.replace(\".\", \" \").replace(\",\", \"\").replace(\"  \",\" \")  # replaces all \".\" and \",\"\n",
    "    name = \" \".join(name.split())  # uses the join() function to join the words back together with a space as the delimiter\n",
    "    cleaned_names.append(name) # cleaned names are stored in the cleaned_names list, which is then printed\n",
    "\n"
   ]
  },
  {
   "cell_type": "code",
   "execution_count": null,
   "id": "3db08f96-15b6-4c58-9546-477c247a4456",
   "metadata": {},
   "outputs": [],
   "source": []
  }
 ],
 "metadata": {
  "kernelspec": {
   "display_name": "Python 3 (ipykernel)",
   "language": "python",
   "name": "python3"
  },
  "language_info": {
   "codemirror_mode": {
    "name": "ipython",
    "version": 3
   },
   "file_extension": ".py",
   "mimetype": "text/x-python",
   "name": "python",
   "nbconvert_exporter": "python",
   "pygments_lexer": "ipython3",
   "version": "3.7.5"
  }
 },
 "nbformat": 4,
 "nbformat_minor": 5
}
